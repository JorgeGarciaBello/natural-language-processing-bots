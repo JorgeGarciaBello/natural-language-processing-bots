{
 "cells": [
  {
   "cell_type": "markdown",
   "metadata": {},
   "source": [
    "#  Stop Words with Spacy"
   ]
  },
  {
   "cell_type": "code",
   "execution_count": 4,
   "metadata": {},
   "outputs": [],
   "source": [
    "# Librerías\n",
    "import spacy\n",
    "from spacy.lang.en.stop_words import STOP_WORDS\n",
    "nlp = spacy.load(\"en_core_web_sm\")"
   ]
  },
  {
   "cell_type": "code",
   "execution_count": 2,
   "metadata": {},
   "outputs": [
    {
     "name": "stdout",
     "output_type": "stream",
     "text": [
      "{'against', 'somewhere', 'her', 'quite', 'thereby', 'twenty', 'should', 'your', 'always', 'except', \"'ll\", 'fifty', 'call', 'doing', 'sometime', 'often', 'wherein', 'else', 'hers', 'one', 'towards', 'they', 'by', 'whether', 'to', 'amongst', 'can', 'something', 'another', 'via', 'already', 'whoever', 'again', 'more', 'since', 'top', 'being', 'from', 'own', 'us', 'along', 'herself', '‘s', 'never', 'she', 'of', 'whereafter', 'whereupon', 'which', 'he', 'itself', 'nothing', 'perhaps', 'namely', 'becomes', 'n‘t', 'below', 'will', 'any', 'might', 'neither', 'various', 'side', 'for', 'get', 'eight', 'ourselves', 'give', 'thereafter', '’d', 'latterly', 'nine', '’ll', 'a', 'beforehand', 'did', 'anyway', 'after', 'last', 'no', 'that', 'but', 'first', 'used', 'whereby', 'if', 'then', 'within', 'each', 'serious', 'make', 'former', 'about', 'does', 'rather', 'ten', 'were', 'mine', 'over', '‘d', 'who', 'show', 'seemed', 'him', 'hence', 'my', 'however', 'into', 'nobody', 'whence', '‘re', 'or', 'alone', 'yours', 'fifteen', 'two', 'whatever', 'yourselves', 'only', 'myself', 'them', 'seeming', 'onto', 'many', '’m', 'during', 'made', 'somehow', 'what', 'sixty', 'really', 'keep', 'was', 'using', 'an', 'there', 'anywhere', 'meanwhile', '‘ll', 'across', 'our', '’s', 'enough', 'its', 'move', 'amount', 'seem', 'hundred', 'must', 'i', \"'m\", '’ve', 'been', 'elsewhere', 'four', 'because', 'name', 'once', 'much', 'moreover', 'front', 'such', 'above', 'this', 'throughout', 'themselves', 'how', 'together', 'ca', 'toward', 'me', 'whose', 'twelve', 'thereupon', 'unless', 'yet', 'afterwards', 'though', 'others', 'further', 'when', \"n't\", \"'ve\", 'anyone', 'anything', 'at', 'himself', 'either', 'their', 'hereby', '‘m', 'through', '’re', 'next', 'become', 'every', 'regarding', 'so', 'whom', 'may', 'six', 'why', 'am', 'other', 'therein', 'around', 'under', 'most', 'due', 'up', 'upon', 'per', 'whither', 'besides', 'among', 'and', \"'d\", 'too', 'beyond', 'hereafter', 'some', 'be', 'you', 'least', 'five', 'cannot', 'out', 'with', 'ever', 'is', 'same', 'than', 'hereupon', 'nowhere', 'would', 'all', 'between', 'do', 'became', 'say', 'wherever', 're', 'eleven', 'please', 'thru', 'someone', 'everywhere', 'where', 'had', 'formerly', 'sometimes', 'behind', 'bottom', 'noone', 'while', 'back', 'not', 'seems', 'well', \"'re\", 'thence', 'full', 'herein', 'few', 'those', 'in', 'latter', 'nevertheless', 'very', 'anyhow', 'put', 'are', 'three', 'several', 'has', 'we', 'before', 'until', 'still', 'whereas', 'whole', '‘ve', 'his', 'almost', 'could', 'everything', 'indeed', 'also', 'here', 'although', 'it', 'becoming', 'empty', 'as', 'none', 'even', 'mostly', 'the', 'thus', 'n’t', 'less', 'beside', 'these', 'third', 'now', 'just', 'forty', 'therefore', 'have', 'ours', 'done', 'everyone', 'without', 'otherwise', 'both', 'part', \"'s\", 'nor', 'off', 'go', 'take', 'on', 'yourself', 'down', 'see', 'whenever'}\n"
     ]
    }
   ],
   "source": [
    "print(STOP_WORDS)"
   ]
  },
  {
   "cell_type": "markdown",
   "metadata": {},
   "source": [
    "### Examinar si una palabra es STOP_WORD o no."
   ]
  },
  {
   "cell_type": "code",
   "execution_count": 5,
   "metadata": {},
   "outputs": [
    {
     "data": {
      "text/plain": [
       "True"
      ]
     },
     "execution_count": 5,
     "metadata": {},
     "output_type": "execute_result"
    }
   ],
   "source": [
    "# Example 1\n",
    "nlp.vocab[u'is'].is_stop"
   ]
  },
  {
   "cell_type": "code",
   "execution_count": 6,
   "metadata": {},
   "outputs": [
    {
     "data": {
      "text/plain": [
       "False"
      ]
     },
     "execution_count": 6,
     "metadata": {},
     "output_type": "execute_result"
    }
   ],
   "source": [
    "# Example 2\n",
    "nlp.vocab[u'hello'].is_stop"
   ]
  },
  {
   "cell_type": "code",
   "execution_count": 8,
   "metadata": {},
   "outputs": [
    {
     "data": {
      "text/plain": [
       "True"
      ]
     },
     "execution_count": 8,
     "metadata": {},
     "output_type": "execute_result"
    }
   ],
   "source": [
    "# Example 2\n",
    "nlp.vocab[u'with'].is_stop"
   ]
  },
  {
   "cell_type": "code",
   "execution_count": null,
   "metadata": {},
   "outputs": [],
   "source": []
  }
 ],
 "metadata": {
  "kernelspec": {
   "display_name": "Python 3",
   "language": "python",
   "name": "python3"
  },
  "language_info": {
   "codemirror_mode": {
    "name": "ipython",
    "version": 3
   },
   "file_extension": ".py",
   "mimetype": "text/x-python",
   "name": "python",
   "nbconvert_exporter": "python",
   "pygments_lexer": "ipython3",
   "version": "3.6.9"
  }
 },
 "nbformat": 4,
 "nbformat_minor": 4
}
